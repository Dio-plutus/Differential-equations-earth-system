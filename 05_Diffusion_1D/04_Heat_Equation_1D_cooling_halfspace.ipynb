{
 "cells": [
  {
   "cell_type": "markdown",
   "metadata": {},
   "source": [
    "###### Content under Creative Commons Attribution license CC-BY 4.0, code under MIT license (c) 2019 Daniel Koehn, based on (c)2018 L.A. Barba, G.F. Forsyth [CFD Python](https://github.com/barbagroup/CFDPython#cfd-python), (c)2014 L.A. Barba, I. Hawke, B. Knaepen [Practical Numerical Methods with Python](https://github.com/numerical-mooc/numerical-mooc#practical-numerical-methods-with-python), also under CC-BY."
   ]
  },
  {
   "cell_type": "code",
   "execution_count": 1,
   "metadata": {},
   "outputs": [
    {
     "data": {
      "text/html": [
       "<link href=\"https://fonts.googleapis.com/css?family=Merriweather:300,300i,400,400i,700,700i,900,900i\" rel='stylesheet' >\n",
       "<link href=\"https://fonts.googleapis.com/css?family=Source+Sans+Pro:300,300i,400,400i,700,700i\" rel='stylesheet' >\n",
       "<link href='http://fonts.googleapis.com/css?family=Source+Code+Pro:300,400' rel='stylesheet' >\n",
       "<style>\n",
       "\n",
       "@font-face {\n",
       "    font-family: \"Computer Modern\";\n",
       "    src: url('http://mirrors.ctan.org/fonts/cm-unicode/fonts/otf/cmunss.otf');\n",
       "}\n",
       "\n",
       "\n",
       "#notebook_panel { /* main background */\n",
       "    background: rgb(245,245,245);\n",
       "}\n",
       "\n",
       "div.cell { /* set cell width */\n",
       "    width: 800px;\n",
       "}\n",
       "\n",
       "div #notebook { /* centre the content */\n",
       "    background: #fff; /* white background for content */\n",
       "    width: 1000px;\n",
       "    margin: auto;\n",
       "    padding-left: 0em;\n",
       "}\n",
       "\n",
       "#notebook li { /* More space between bullet points */\n",
       "margin-top:0.5em;\n",
       "}\n",
       "\n",
       "/* draw border around running cells */\n",
       "div.cell.border-box-sizing.code_cell.running { \n",
       "    border: 1px solid #111;\n",
       "}\n",
       "\n",
       "/* Put a solid color box around each cell and its output, visually linking them*/\n",
       "div.cell.code_cell {\n",
       "    background-color: rgb(256,256,256); \n",
       "    border-radius: 0px; \n",
       "    padding: 0.5em;\n",
       "    margin-left:1em;\n",
       "    margin-top: 1em;\n",
       "}\n",
       "\n",
       "\n",
       "div.text_cell_render{\n",
       "    font-family: 'Source Sans Pro', sans-serif;\n",
       "    line-height: 140%;\n",
       "    font-size: 110%;\n",
       "    width:680px;\n",
       "    margin-left:auto;\n",
       "    margin-right:auto;\n",
       "}\n",
       "\n",
       "/* Formatting for header cells */\n",
       ".text_cell_render h1 {\n",
       "    font-family: 'Merriweather', serif;\n",
       "    font-style:regular;\n",
       "    font-weight: bold;    \n",
       "    font-size: 250%;\n",
       "    line-height: 100%;\n",
       "    color: #004065;\n",
       "    margin-bottom: 1em;\n",
       "    margin-top: 0.5em;\n",
       "    display: block;\n",
       "}\t\n",
       ".text_cell_render h2 {\n",
       "    font-family: 'Merriweather', serif;\n",
       "    font-weight: bold; \n",
       "    font-size: 180%;\n",
       "    line-height: 100%;\n",
       "    color: #0096d6;\n",
       "    margin-bottom: 0.5em;\n",
       "    margin-top: 0.5em;\n",
       "    display: block;\n",
       "}\t\n",
       "\n",
       ".text_cell_render h3 {\n",
       "    font-family: 'Merriweather', serif;\n",
       "\tfont-size: 150%;\n",
       "    margin-top:12px;\n",
       "    margin-bottom: 3px;\n",
       "    font-style: regular;\n",
       "    color: #008367;\n",
       "}\n",
       "\n",
       ".text_cell_render h4 {    /*Use this for captions*/\n",
       "    font-family: 'Merriweather', serif;\n",
       "    font-weight: 300; \n",
       "    font-size: 100%;\n",
       "    line-height: 120%;\n",
       "    text-align: left;\n",
       "    width:500px;\n",
       "    margin-top: 1em;\n",
       "    margin-bottom: 2em;\n",
       "    margin-left: 80pt;\n",
       "    font-style: regular;\n",
       "}\n",
       "\n",
       ".text_cell_render h5 {  /*Use this for small titles*/\n",
       "    font-family: 'Source Sans Pro', sans-serif;\n",
       "    font-weight: regular;\n",
       "    font-size: 130%;\n",
       "    color: #e31937;\n",
       "    font-style: italic;\n",
       "    margin-bottom: .5em;\n",
       "    margin-top: 1em;\n",
       "    display: block;\n",
       "}\n",
       "\n",
       ".text_cell_render h6 { /*use this for copyright note*/\n",
       "    font-family: 'Source Code Pro', sans-serif;\n",
       "    font-weight: 300;\n",
       "    font-size: 9pt;\n",
       "    line-height: 100%;\n",
       "    color: grey;\n",
       "    margin-bottom: 1px;\n",
       "    margin-top: 1px;\n",
       "}\n",
       "\n",
       "    .CodeMirror{\n",
       "            font-family: \"Source Code Pro\";\n",
       "\t\t\tfont-size: 90%;\n",
       "    }\n",
       "/*    .prompt{\n",
       "        display: None;\n",
       "    }*/\n",
       "\t\n",
       "    \n",
       "    .warning{\n",
       "        color: rgb( 240, 20, 20 )\n",
       "        }  \n",
       "</style>\n",
       "<script>\n",
       "    MathJax.Hub.Config({\n",
       "                        TeX: {\n",
       "                           extensions: [\"AMSmath.js\"], \n",
       "                           equationNumbers: { autoNumber: \"AMS\", useLabelIds: true}\n",
       "                           },\n",
       "                tex2jax: {\n",
       "                    inlineMath: [ ['$','$'], [\"\\\\(\",\"\\\\)\"] ],\n",
       "                    displayMath: [ ['$$','$$'], [\"\\\\[\",\"\\\\]\"] ]\n",
       "                },\n",
       "                displayAlign: 'center', // Change this to 'center' to center equations.\n",
       "                \"HTML-CSS\": {\n",
       "                    styles: {'.MathJax_Display': {\"margin\": 4}}\n",
       "                }\n",
       "        });\n",
       "</script>\n"
      ],
      "text/plain": [
       "<IPython.core.display.HTML object>"
      ]
     },
     "execution_count": 1,
     "metadata": {},
     "output_type": "execute_result"
    }
   ],
   "source": [
    "from IPython.core.display import HTML\n",
    "css_file = '../style/custom.css'\n",
    "HTML(open(css_file, 'r').read())"
   ]
  },
  {
   "cell_type": "markdown",
   "metadata": {},
   "source": [
    "# 1D Heat Conduction Example II: Cooling of a half-space"
   ]
  },
  {
   "cell_type": "markdown",
   "metadata": {},
   "source": [
    "In this exercise we will focus on another problem in geophysics, which can be described by the 1D heat conduction equation: the cooling of a half-space. By solving this problem, we can understand the generation and cooling of the oceanic lithosphere on earth."
   ]
  },
  {
   "cell_type": "markdown",
   "metadata": {},
   "source": [
    "## Cooling of the Oceanic Lithosphere\n",
    "\n",
    "The rigid outer shell of the earth, the [lithosphere](https://en.wikipedia.org/wiki/Lithosphere), is generated at the [**mid-ocean ridges (MOR)**](https://en.wikipedia.org/wiki/Mid-ocean_ridge) from molten mantle material. Due to [ridge push](https://en.wikipedia.org/wiki/Ridge_push) and [slab pull](https://en.wikipedia.org/wiki/Slab_pull) the new oceanic lithosphere is spreading away from the MORs. \n",
    "\n",
    "![MOR](./figures/MORB.jpg)\n",
    ".\n",
    "#### Figure 1. Generation and cooling of the oceanic lithosphere.\n",
    "\n",
    "Neglecting heat transport by advection and restrict heat conduction to the vertical direction $z$, we can describe the cooling of the oceanic lithosphere by the 1D heat conduction equation:\n",
    "\n",
    "$$\n",
    "\\begin{equation}\n",
    "\\frac{\\partial T}{\\partial t} = \\alpha \\frac{\\partial^2 T}{\\partial z^2} \\notag\n",
    "\\end{equation}\n",
    "$$\n",
    "\n",
    "Here, $\\alpha$ is the thermal diffusivity and temperature $T$. \n",
    "\n",
    "Let's take a deeper look into the problem."
   ]
  },
  {
   "cell_type": "markdown",
   "metadata": {},
   "source": [
    "##### Exercise 1"
   ]
  },
  {
   "cell_type": "markdown",
   "metadata": {},
   "source": [
    "Lets assume that we have a partially molten half-space at the MOR with a constant temperature $T_{init} = 1300^oC$ down to a depth $z_1 = 250\\;km$. The half-space is cooled by the lower surface temperature $T_{surf}=20^oC$ at $z_0 = 0\\; km$.\n",
    "\n",
    "Additionally, the [thermal diffusivity](http://en.wikipedia.org/wiki/Thermal_diffusivity) of the mantle rock is $\\alpha=1\\times10^{-6} {\\rm m}^2/{\\rm s}$. How will the temperature evolve in the lithosphere and upper mantle as a function of time? We can compare the numerical solution of the problem with an analytical solution:\n",
    "\n",
    "\\begin{equation}\n",
    "T(z,t) = T_{init} + (T_{surf} - T_{init})\\; \\text{erfc}\\biggl(\\frac{z}{2\\sqrt{\\alpha t}}\\biggr) \\tag{1}\n",
    "\\end{equation}\n",
    "\n",
    "where $\\text{erfc}$ denotes the **Complementary Error Function**. The `erfc` can be computed using the `SciPy` package. For more details of the implementation, I refer to Prof. Ecosia.\n",
    "\n",
    "In this exercise, we want to compute the temperature profiles $T(z,t)$ of the cooled half-space after $t=10\\;\\text{Ma}$, $t=60\\;\\text{Ma}$ and $t=100\\;\\text{Ma}$, respectively. "
   ]
  },
  {
   "cell_type": "markdown",
   "metadata": {},
   "source": [
    "\n",
    "\n",
    "As usual, start by importing some libraries and setting up the discretization."
   ]
  },
  {
   "cell_type": "code",
   "execution_count": null,
   "metadata": {},
   "outputs": [],
   "source": [
    "import numpy\n",
    "from matplotlib import pyplot\n",
    "from scipy import special\n",
    "%matplotlib inline"
   ]
  },
  {
   "cell_type": "code",
   "execution_count": null,
   "metadata": {},
   "outputs": [],
   "source": [
    "# Set the font family and size to use for Matplotlib figures.\n",
    "pyplot.rcParams['font.family'] = 'serif'\n",
    "pyplot.rcParams['font.size'] = 16"
   ]
  },
  {
   "cell_type": "markdown",
   "metadata": {},
   "source": [
    "We'll begin by defining a few parameters ...\n",
    "\n",
    "- depth of the half-space $L = 250\\; \\text{km}$\n",
    "- a spatial grid with $nz = 100\\; \\text{points}$ in z-direction\n",
    "- thermal diffusivity $\\alpha = 1\\times10^{-6}\\; m^2/s$\n",
    "- initial temperature of the half-space $T_{init} = 1300^oC$\n",
    "- surface temperature $T_{surf}=20^oC$"
   ]
  },
  {
   "cell_type": "code",
   "execution_count": null,
   "metadata": {},
   "outputs": [],
   "source": [
    "# Set parameters\n",
    "L =      # DEFINE DEPTH OF HALF-SPACE HERE [m]!\n",
    "nz =     # DEFINE NUMBER OF GRIDPOINTS NZ HERE! \n",
    "dz = L / (nz - 1)  # spatial distance between two consecutive locations [m]\n",
    "alpha =    #  DEFINE THERMAL DIFFUSIVITY OF ROCK HERE [m^2/s]!\n",
    "\n",
    "# Define the depth locations [m]\n",
    "z = numpy.linspace(0.0, L, num=nz)\n",
    "\n",
    "# Set the initial temperature in the half-space\n",
    "T_init =  # INITIAL TEMPERATURE OF THE MOLTEN HALF-SPACE [°C]\n",
    "T0 = numpy.ones(nz)\n",
    "T0 = T0 * T_init\n",
    "\n",
    "# COOL THE HALF-SPACE BY SETTING THE TEMPERATURE AT THE FIRST GRIDPOINT\n",
    "# TO THE SURFACE TEMPERATURE AS DIRICHLET BOUNDARY CONDITION\n",
    "T_surf =   # SURFACE TEMPERATURE [°C]\n",
    "T0[0] = T_surf"
   ]
  },
  {
   "cell_type": "markdown",
   "metadata": {},
   "source": [
    "To solve the 1D heat conduction equation, we are using the forward-time, centered-space **FTCS** discretization. You should work it out on a piece of paper yourself (if you can't do it without looking it up, it means you need to do this more!).\n",
    "\n",
    "$$\n",
    "\\begin{equation}\n",
    "\\frac{T_{i}^{n+1}-T_{i}^{n}}{\\Delta t}=\\alpha\\frac{T_{i+1}^{n}-2T_{i}^{n}+T_{i-1}^{n}}{\\Delta z^2} \\notag\n",
    "\\end{equation}\n",
    "$$\n",
    "\n",
    "To obtain the temperature at the next time step, $T^{n+1}_i$, from the known information at the current time step, we compute\n",
    "\n",
    "$$\n",
    "\\begin{equation}\n",
    "T_{i}^{n+1}=T_{i}^{n}+\\frac{\\alpha\\Delta t}{\\Delta z^2}(T_{i+1}^{n}-2T_{i}^{n}+T_{i-1}^{n}) \\notag\n",
    "\\end{equation}\n",
    "$$\n",
    "\n",
    "In the [first lesson of module 5](https://nbviewer.jupyter.org/github/numerical-mooc/numerical-mooc/blob/master/lessons/02_spacetime/02_03_1DDiffusion.ipynb), we discretized the diffusion equation  with a forward-time, centered-space scheme, subject to the following stability constraint:\n",
    "\n",
    "$$\n",
    "\\begin{equation}\n",
    "\\alpha \\frac{\\Delta t}{(\\Delta z)^2} \\leq \\frac{1}{2} \\notag\n",
    "\\end{equation}\n",
    "$$\n",
    "\n",
    "The following function already implements this numerical scheme:"
   ]
  },
  {
   "cell_type": "code",
   "execution_count": null,
   "metadata": {},
   "outputs": [],
   "source": [
    "def ftcs_cool_lith(T0, nt, nz, dt, dz, alpha):\n",
    "    \"\"\"\n",
    "    Computes and returns the depth-temperature distrubtion (geotherm)    \n",
    "    for the half-space cooling problem, according to a provided number \n",
    "    of time steps, a given initial temperature and thermal diffusivity.\n",
    "    The diffusion equation is integrated using forward differencing in \n",
    "    time and central differencing in space.\n",
    "    \n",
    "    Parameters\n",
    "    ----------\n",
    "    T0 : numpy.ndarray\n",
    "        The initial temperature as a 1D array of floats.\n",
    "    nt : integer\n",
    "        The number of time steps to compute.\n",
    "    nz : integer\n",
    "        The number of spatial grid points.    \n",
    "    dt : float\n",
    "        The time-step size to integrate.\n",
    "    dz : float\n",
    "        The distance between two consecutive locations.\n",
    "    alpha : float\n",
    "        The thermal diffusivity of the rock.\n",
    "    \n",
    "    Returns\n",
    "    -------\n",
    "    T : numpy.ndarray\n",
    "        The geotherm as a 1D array of floats.\n",
    "    \"\"\"\n",
    "    \n",
    "    T = T0.copy()\n",
    "    sigma = alpha * dt / dz**2\n",
    "    for n in range(nt): # loop over time steps\n",
    "        Tn = T.copy()\n",
    "        for i in range(1,nz-1): # loop over spatial grid\n",
    "            T[i] = (Tn[i] + sigma * (Tn[i+1] - 2.0 * Tn[i] + Tn[i-1]))\n",
    "    return T"
   ]
  },
  {
   "cell_type": "markdown",
   "metadata": {},
   "source": [
    "We are all set to run! Lets compute the temperature profile after **10 Ma years**.\n",
    "First, you have to define the maximum cooling time **Tmax in Million years [Ma]**. To get correct results, do not forget to convert the units of Tmax from [Ma] to [s].\n",
    "\n",
    "Next, we define a time step `dt` that satisfies the stability constraint and calculate the number of time steps `nt` for the given `Tmax` and `dt`. Compute the temperature profile after 10 Ma years using the FD code `T10Ma` and the analytical solution `T10Ma_an`"
   ]
  },
  {
   "cell_type": "code",
   "execution_count": null,
   "metadata": {},
   "outputs": [],
   "source": [
    "# DEFINE MAXIMUM COOLING TIME in [Ma]\n",
    "Tmax =  \n",
    "\n",
    "# CONVERT Tmax UNITS [Ma] -> [s] HERE!\n",
    "Tmax =\n",
    "\n",
    "# Set the time-step size based on CFL limit.\n",
    "sigma = 0.5\n",
    "dt = sigma * dz**2 / alpha  # time-step size\n",
    "nt = (int)(Tmax/dt)         # number of time steps\n",
    "\n",
    "# Compute the temperature profile in the lithosphere and asthenosphere\n",
    "T10Ma = ftcs_cool_lith(T0, nt, nz, dt, dz, alpha)\n",
    "\n",
    "# COMPUTE ANALYTICAL SOLUTION EQ.(1) HERE!\n",
    "T10Ma_an = "
   ]
  },
  {
   "cell_type": "markdown",
   "metadata": {},
   "source": [
    "Compute the temperature profile after **60 Ma years**"
   ]
  },
  {
   "cell_type": "code",
   "execution_count": null,
   "metadata": {},
   "outputs": [],
   "source": [
    "# DEFINE MAXIMUM COOLING TIME in [Ma]\n",
    "Tmax = \n",
    "\n",
    "# CONVERT Tmax UNITS [Ma] -> [s] HERE!\n",
    "Tmax =\n",
    "\n",
    "# Set the time-step size based on CFL limit.\n",
    "sigma = 0.5\n",
    "dt = sigma * dz**2 / alpha  # time-step size\n",
    "nt = (int)(Tmax/dt)         # number of time steps\n",
    "\n",
    "# Compute the temperature profile in the lithosphere and asthenosphere\n",
    "T60Ma = ftcs_cool_lith(T0, nt, nz, dt, dz, alpha)\n",
    "\n",
    "# COMPUTE ANALYTICAL SOLUTION EQ.(1) HERE!\n",
    "T60Ma_an ="
   ]
  },
  {
   "cell_type": "markdown",
   "metadata": {},
   "source": [
    "Compute the temperature profile after **100 Ma years**"
   ]
  },
  {
   "cell_type": "code",
   "execution_count": null,
   "metadata": {},
   "outputs": [],
   "source": [
    "# DEFINE MAXIMUM COOLING TIME in [Ma]\n",
    "Tmax = \n",
    "\n",
    "# CONVERT Tmax UNITS [Ma] -> [s] HERE!\n",
    "Tmax =\n",
    "\n",
    "# Set the time-step size based on CFL limit.\n",
    "sigma = 0.5\n",
    "dt = sigma * dz**2 / alpha  # time-step size\n",
    "nt = (int)(Tmax/dt)         # number of time steps\n",
    "\n",
    "# Compute the temperature profile in the lithosphere and asthenosphere\n",
    "T100Ma = ftcs_cool_lith(T0, nt, nz, dt, dz, alpha)\n",
    "\n",
    "# COMPUTE ANALYTICAL SOLUTION EQ.(1) HERE!\n",
    "T100Ma_an ="
   ]
  },
  {
   "cell_type": "markdown",
   "metadata": {},
   "source": [
    "Plot the initial and different temperature profiles of the numerical and analytical solutions. Describe, compare and interpret the results ..."
   ]
  },
  {
   "cell_type": "code",
   "execution_count": null,
   "metadata": {},
   "outputs": [],
   "source": [
    "# Plot the temperature profiles of the half-space after Tmax = 10, 60, 100 Ma\n",
    "pyplot.figure(figsize=(8.0, 6.0))\n",
    "pyplot.ylabel('Depth [km]')\n",
    "pyplot.xlabel('Temperature [C]')\n",
    "pyplot.grid()\n",
    "\n",
    "# Initial temperature profile\n",
    "pyplot.plot(T0, z/1000, color='C6', linestyle='-', linewidth=3, label='Tmax = 0 Ma')\n",
    "\n",
    "# Temperature profile after 10 Ma\n",
    "pyplot.plot(T10Ma, z/1000, color='C0', linestyle='-', linewidth=3, label='Tmax = 10 Ma')\n",
    "pyplot.plot(T10Ma_an, z/1000, color='C1', linestyle='--', label='Tmax_an = 10 Ma', linewidth=2)\n",
    "\n",
    "# Temperature profile after 60 Ma\n",
    "pyplot.plot(T60Ma, z/1000, color='C2', linestyle='-', linewidth=3, label='Tmax = 60 Ma')\n",
    "pyplot.plot(T60Ma_an, z/1000, color='C3', linestyle='--', label='Tmax_an = 60 Ma', linewidth=2)\n",
    "\n",
    "# Temperature profile after 100 Ma\n",
    "pyplot.plot(T100Ma, z/1000, color='C4', linestyle='-', linewidth=3, label='Tmax = 100 Ma')\n",
    "pyplot.plot(T100Ma_an, z/1000, color='C5', linestyle='--', label='Tmax_an = 100 Ma', linewidth=2)\n",
    "\n",
    "pyplot.legend()\n",
    "pyplot.ylim(0.0, L/1000)\n",
    "pyplot.xlim(100.0, 1500.0)\n",
    "pyplot.gca().invert_yaxis()"
   ]
  },
  {
   "cell_type": "markdown",
   "metadata": {},
   "source": [
    "##### Exercise 2\n",
    "\n",
    "The boundary between the rigid [lithosphere](https://en.wikipedia.org/wiki/Lithosphere) and the partially molten [asthenosphere](https://en.wikipedia.org/wiki/Asthenosphere)\n",
    "is defined by the $1100^oC$ isotherm. Modify the code `ftcs_lith_thickness` below to compute the thickness of the lithosphere at each time step and return the lithospheric thickness `d_lith` and times `t` "
   ]
  },
  {
   "cell_type": "code",
   "execution_count": null,
   "metadata": {},
   "outputs": [],
   "source": [
    "def ftcs_lith_thickness(T0, nt, nz, dt, dz, alpha):\n",
    "    \"\"\"\n",
    "    Computes and returns the depth-temperature distrubtion (geotherm)    \n",
    "    for the half-space cooling problem, according to a provided number \n",
    "    of time steps, a given initial temperature and thermal diffusivity.\n",
    "    The diffusion equation is integrated using forward differencing in \n",
    "    time and central differencing in space.\n",
    "    \n",
    "    Parameters\n",
    "    ----------\n",
    "    T0 : numpy.ndarray\n",
    "        The initial temperature as a 1D array of floats.\n",
    "    nt : integer\n",
    "        The number of time steps to compute.\n",
    "    nz : integer\n",
    "        The number of spatial grid points.    \n",
    "    dt : float\n",
    "        The time-step size to integrate.\n",
    "    dz : float\n",
    "        The distance between two consecutive locations.\n",
    "    alpha : float\n",
    "        The thermal diffusivity of the rock.\n",
    "    \n",
    "    Returns\n",
    "    -------\n",
    "    d_lith : numpy.ndarray\n",
    "        The lithosphere thickness as a 1D array of floats.\n",
    "    t : numpy.ndarray\n",
    "        Time as a 1D array of floats.    \n",
    "    \"\"\"\n",
    "    \n",
    "    T = T0.copy()\n",
    "    sigma = alpha * dt / dz**2\n",
    "    for n in range(nt): # loop over time steps\n",
    "        Tn = T.copy()\n",
    "        \n",
    "        for i in range(1,nz-1): # loop over spatial grid\n",
    "            T[i] = (Tn[i] + sigma * (Tn[i+1] - 2.0 * Tn[i] + Tn[i-1]))\n",
    "            \n",
    "        # ESTIMATE THE LITHOSPHERE THICKNESS BASED ON THE 1100°C ISOTHERM HERE!\n",
    "        TLAB = 1100.\n",
    "\n",
    "        \n",
    "    return d_lith, t"
   ]
  },
  {
   "cell_type": "markdown",
   "metadata": {},
   "source": [
    "Compute the evolution of the lithosphere thickness up to Tmax = 100 Ma"
   ]
  },
  {
   "cell_type": "code",
   "execution_count": null,
   "metadata": {},
   "outputs": [],
   "source": [
    "# Compute lithosphere thickness for Tmax = 100 Ma\n",
    "Tmax =\n",
    "\n",
    "# CONVERT Tmax UNITS [Ma] -> [s] HERE!\n",
    "Tmax =\n",
    "\n",
    "# Set the time-step size based on CFL limit.\n",
    "sigma = 0.5\n",
    "dt = sigma * dz**2 / alpha  # time-step size\n",
    "nt = (int)(Tmax/dt)         # number of time steps\n",
    "\n",
    "# initialize arrays for lithosphere thickness d_lith and time t\n",
    "d_lith = numpy.zeros(nt)\n",
    "t = numpy.zeros(nt)\n",
    "\n",
    "# Compute the thickness of the lithosphere d_lith at times t\n",
    "d_lith, t = ftcs_lith_thickness(T0, nt, nz, dt, dz, alpha)"
   ]
  },
  {
   "cell_type": "markdown",
   "metadata": {},
   "source": [
    "Plot lithosphere depth over time. The thickness of the oceanic lithosphere can be approximated as a thermal boundary layer that thickens with the square root of time\n",
    "\n",
    "\\begin{equation}\n",
    "h \\approx 2 \\sqrt{\\alpha t} \\tag{2}\n",
    "\\end{equation}\n",
    "\n",
    "Here, $h$ denotes the thickness of the oceanic mantle lithosphere, $\\alpha$ is the thermal diffusivity and $t$ is the age of the given part of the lithosphere. Compare and discuss the thickness of the lithosphere based on the FD solution $d_{lith}$ and approximation $h$ from eq. (2) "
   ]
  },
  {
   "cell_type": "code",
   "execution_count": null,
   "metadata": {},
   "outputs": [],
   "source": [
    "# Plot the lithosphere thickness over time\n",
    "pyplot.figure(figsize=(8.0, 6.0))\n",
    "pyplot.ylabel('Lithosphere Thickness [km]')\n",
    "pyplot.xlabel('Time [Ma]')\n",
    "pyplot.grid()\n",
    "\n",
    "# PLOT LITHOSPHERE THICKNESS OVER TIME FROM FD MODELLING HERE!\n",
    "pyplot.plot(t, d_lith, color='C0', linestyle='-', linewidth=3, label='FD-based dlith')\n",
    "\n",
    "# COMPUTE LITHOSPHERE THICKNESS OVER TIME FROM EQ.(2) HERE!\n",
    "h =\n",
    "\n",
    "# PLOT LITHOSPHERE THICKNESS OVER TIME FROM EQ.(2) HERE!\n",
    "pyplot.plot(t, h, color='C1', linestyle='-', linewidth=3, label='analytical-based h')\n",
    "\n",
    "pyplot.legend()"
   ]
  },
  {
   "cell_type": "markdown",
   "metadata": {},
   "source": [
    "## What we learned:\n",
    "\n",
    "- How to solve the cooling of a half-space problem using the finite-difference and analytical solution of the 1D heat conduction equation\n",
    "- Estimation of the lithosphere thickness based on the $1100°C$ isotherm"
   ]
  }
 ],
 "metadata": {
  "kernelspec": {
   "display_name": "Python 3",
   "language": "python",
   "name": "python3"
  },
  "language_info": {
   "codemirror_mode": {
    "name": "ipython",
    "version": 3
   },
   "file_extension": ".py",
   "mimetype": "text/x-python",
   "name": "python",
   "nbconvert_exporter": "python",
   "pygments_lexer": "ipython3",
   "version": "3.7.4"
  }
 },
 "nbformat": 4,
 "nbformat_minor": 1
}
