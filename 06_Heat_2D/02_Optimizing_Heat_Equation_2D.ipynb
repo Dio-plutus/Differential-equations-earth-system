{
 "cells": [
  {
   "cell_type": "markdown",
   "metadata": {},
   "source": [
    "###### Content under Creative Commons Attribution license CC-BY 4.0, code under MIT license (c) 2019 Daniel Koehn, based on (c)2018 L.A. Barba, G.F. Forsyth [CFD Python](https://github.com/barbagroup/CFDPython#cfd-python), (c)2014 L.A. Barba, I. Hawke, B. Knaepen [Practical Numerical Methods with Python](https://github.com/numerical-mooc/numerical-mooc#practical-numerical-methods-with-python), also under CC-BY."
   ]
  },
  {
   "cell_type": "code",
   "execution_count": 1,
   "metadata": {},
   "outputs": [
    {
     "data": {
      "text/html": [
       "<link href=\"https://fonts.googleapis.com/css?family=Merriweather:300,300i,400,400i,700,700i,900,900i\" rel='stylesheet' >\n",
       "<link href=\"https://fonts.googleapis.com/css?family=Source+Sans+Pro:300,300i,400,400i,700,700i\" rel='stylesheet' >\n",
       "<link href='http://fonts.googleapis.com/css?family=Source+Code+Pro:300,400' rel='stylesheet' >\n",
       "<style>\n",
       "\n",
       "@font-face {\n",
       "    font-family: \"Computer Modern\";\n",
       "    src: url('http://mirrors.ctan.org/fonts/cm-unicode/fonts/otf/cmunss.otf');\n",
       "}\n",
       "\n",
       "\n",
       "#notebook_panel { /* main background */\n",
       "    background: rgb(245,245,245);\n",
       "}\n",
       "\n",
       "div.cell { /* set cell width */\n",
       "    width: 800px;\n",
       "}\n",
       "\n",
       "div #notebook { /* centre the content */\n",
       "    background: #fff; /* white background for content */\n",
       "    width: 1000px;\n",
       "    margin: auto;\n",
       "    padding-left: 0em;\n",
       "}\n",
       "\n",
       "#notebook li { /* More space between bullet points */\n",
       "margin-top:0.5em;\n",
       "}\n",
       "\n",
       "/* draw border around running cells */\n",
       "div.cell.border-box-sizing.code_cell.running { \n",
       "    border: 1px solid #111;\n",
       "}\n",
       "\n",
       "/* Put a solid color box around each cell and its output, visually linking them*/\n",
       "div.cell.code_cell {\n",
       "    background-color: rgb(256,256,256); \n",
       "    border-radius: 0px; \n",
       "    padding: 0.5em;\n",
       "    margin-left:1em;\n",
       "    margin-top: 1em;\n",
       "}\n",
       "\n",
       "\n",
       "div.text_cell_render{\n",
       "    font-family: 'Source Sans Pro', sans-serif;\n",
       "    line-height: 140%;\n",
       "    font-size: 110%;\n",
       "    width:680px;\n",
       "    margin-left:auto;\n",
       "    margin-right:auto;\n",
       "}\n",
       "\n",
       "/* Formatting for header cells */\n",
       ".text_cell_render h1 {\n",
       "    font-family: 'Merriweather', serif;\n",
       "    font-style:regular;\n",
       "    font-weight: bold;    \n",
       "    font-size: 250%;\n",
       "    line-height: 100%;\n",
       "    color: #004065;\n",
       "    margin-bottom: 1em;\n",
       "    margin-top: 0.5em;\n",
       "    display: block;\n",
       "}\t\n",
       ".text_cell_render h2 {\n",
       "    font-family: 'Merriweather', serif;\n",
       "    font-weight: bold; \n",
       "    font-size: 180%;\n",
       "    line-height: 100%;\n",
       "    color: #0096d6;\n",
       "    margin-bottom: 0.5em;\n",
       "    margin-top: 0.5em;\n",
       "    display: block;\n",
       "}\t\n",
       "\n",
       ".text_cell_render h3 {\n",
       "    font-family: 'Merriweather', serif;\n",
       "\tfont-size: 150%;\n",
       "    margin-top:12px;\n",
       "    margin-bottom: 3px;\n",
       "    font-style: regular;\n",
       "    color: #008367;\n",
       "}\n",
       "\n",
       ".text_cell_render h4 {    /*Use this for captions*/\n",
       "    font-family: 'Merriweather', serif;\n",
       "    font-weight: 300; \n",
       "    font-size: 100%;\n",
       "    line-height: 120%;\n",
       "    text-align: left;\n",
       "    width:500px;\n",
       "    margin-top: 1em;\n",
       "    margin-bottom: 2em;\n",
       "    margin-left: 80pt;\n",
       "    font-style: regular;\n",
       "}\n",
       "\n",
       ".text_cell_render h5 {  /*Use this for small titles*/\n",
       "    font-family: 'Source Sans Pro', sans-serif;\n",
       "    font-weight: regular;\n",
       "    font-size: 130%;\n",
       "    color: #e31937;\n",
       "    font-style: italic;\n",
       "    margin-bottom: .5em;\n",
       "    margin-top: 1em;\n",
       "    display: block;\n",
       "}\n",
       "\n",
       ".text_cell_render h6 { /*use this for copyright note*/\n",
       "    font-family: 'Source Code Pro', sans-serif;\n",
       "    font-weight: 300;\n",
       "    font-size: 9pt;\n",
       "    line-height: 100%;\n",
       "    color: grey;\n",
       "    margin-bottom: 1px;\n",
       "    margin-top: 1px;\n",
       "}\n",
       "\n",
       "    .CodeMirror{\n",
       "            font-family: \"Source Code Pro\";\n",
       "\t\t\tfont-size: 90%;\n",
       "    }\n",
       "/*    .prompt{\n",
       "        display: None;\n",
       "    }*/\n",
       "\t\n",
       "    \n",
       "    .warning{\n",
       "        color: rgb( 240, 20, 20 )\n",
       "        }  \n",
       "</style>\n",
       "<script>\n",
       "    MathJax.Hub.Config({\n",
       "                        TeX: {\n",
       "                           extensions: [\"AMSmath.js\"], \n",
       "                           equationNumbers: { autoNumber: \"AMS\", useLabelIds: true}\n",
       "                           },\n",
       "                tex2jax: {\n",
       "                    inlineMath: [ ['$','$'], [\"\\\\(\",\"\\\\)\"] ],\n",
       "                    displayMath: [ ['$$','$$'], [\"\\\\[\",\"\\\\]\"] ]\n",
       "                },\n",
       "                displayAlign: 'center', // Change this to 'center' to center equations.\n",
       "                \"HTML-CSS\": {\n",
       "                    styles: {'.MathJax_Display': {\"margin\": 4}}\n",
       "                }\n",
       "        });\n",
       "</script>\n"
      ],
      "text/plain": [
       "<IPython.core.display.HTML object>"
      ]
     },
     "execution_count": 1,
     "metadata": {},
     "output_type": "execute_result"
    }
   ],
   "source": [
    "# Execute this cell to load the notebook's style sheet, then ignore it\n",
    "from IPython.core.display import HTML\n",
    "css_file = '../style/custom.css'\n",
    "HTML(open(css_file, \"r\").read())"
   ]
  },
  {
   "cell_type": "markdown",
   "metadata": {},
   "source": [
    "# Performance optimization of the 2D heat equation finite difference modelling code\n",
    "\n",
    "During the [last class](http://nbviewer.ipython.org/urls/github.com/daniel-koehn/Differential-equations-earth-system/tree/master/06_Heat_2D/01_Heat_Equation_2D.ipynb), we developed a 2D heat equation FD code based on the 1D code. However, if we investigate this \"vanilla\" Python implementation for a computationally more demanding test problem,  the runtime performance is quite underwhelming. Therefore, the aim of this lesson is to optimize the performance of the 2D heat equation code. \n",
    "\n",
    "Let's start by setting up our Python compute environment and reuse the `ftcs` code from the last class."
   ]
  },
  {
   "cell_type": "code",
   "execution_count": 2,
   "metadata": {
    "code_folding": [
     0
    ]
   },
   "outputs": [],
   "source": [
    "# Import libraries\n",
    "import numpy\n",
    "from matplotlib import pyplot\n",
    "%matplotlib inline"
   ]
  },
  {
   "cell_type": "code",
   "execution_count": 3,
   "metadata": {},
   "outputs": [],
   "source": [
    "# Set the font family and size to use for Matplotlib figures.\n",
    "pyplot.rcParams['font.family'] = 'serif'\n",
    "pyplot.rcParams['font.size'] = 16"
   ]
  },
  {
   "cell_type": "code",
   "execution_count": 4,
   "metadata": {},
   "outputs": [],
   "source": [
    "def ftcs_vanilla(T0, nt, dt, dx, dy, alpha):\n",
    "    \"\"\"\n",
    "    Computes and returns the temperature distribution\n",
    "    after a given number of time steps.\n",
    "    Explicit integration using forward differencing\n",
    "    in time and central differencing in space, with\n",
    "    Neumann conditions (zero-gradient) on top and right\n",
    "    boundaries and Dirichlet conditions on bottom and\n",
    "    left boundaries.\n",
    "    \n",
    "    Parameters\n",
    "    ----------\n",
    "    T0 : numpy.ndarray\n",
    "        The initial temperature distribution as a 2D array of floats.\n",
    "    nt : integer\n",
    "        Maximum number of time steps to compute.\n",
    "    dt : float\n",
    "        Time-step size.\n",
    "    dx : float\n",
    "        Grid spacing in the x direction.\n",
    "    dy : float\n",
    "        Grid spacing in the y direction.\n",
    "    alpha : float\n",
    "        Thermal diffusivity.\n",
    "    \n",
    "    Returns\n",
    "    -------\n",
    "    T : numpy.ndarray\n",
    "        The temperature distribution as a 2D array of floats.\n",
    "    \"\"\"\n",
    "    # Define some constants.\n",
    "    sigma_x = alpha * dt / dx**2\n",
    "    sigma_y = alpha * dt / dy**2\n",
    "    \n",
    "    # Integrate in time.\n",
    "    T = T0.copy()\n",
    "    \n",
    "    # Estimate number of grid points in x- and y-direction\n",
    "    ny, nx = T.shape\n",
    "    \n",
    "    # Indices of the model center\n",
    "    I, J = int(nx / 2), int(ny / 2)  \n",
    "    \n",
    "    # Time loop\n",
    "    for n in range(nt):\n",
    "        \n",
    "        # store old temperature field\n",
    "        Tn = T.copy()\n",
    "        \n",
    "        # loop over spatial grid \n",
    "        for i in range(1,nx-1):\n",
    "            for j in range(1,ny-1):\n",
    "                \n",
    "                T[j, i] = (Tn[j, i] +\n",
    "                         sigma_x * (Tn[j, i+1] - 2.0 * Tn[j, i] + Tn[j, i-1]) +\n",
    "                         sigma_y * (Tn[j+1, i] - 2.0 * Tn[j, i] + Tn[j-1, i]))\n",
    "                \n",
    "        # Apply Neumann conditions (zero-gradient).\n",
    "        T[-1, :] = T[-2, :]\n",
    "        T[:, -1] = T[:, -2]\n",
    "        \n",
    "    return T"
   ]
  },
  {
   "cell_type": "markdown",
   "metadata": {},
   "source": [
    "When defining the modelling parameters, we increase the number of gridpoint in x- and y-direction from `nx=ny=21`, used in the last class to `nx=ny=251` to get a better idea of the required runtime to solve a medium sized problem:"
   ]
  },
  {
   "cell_type": "code",
   "execution_count": 5,
   "metadata": {
    "code_folding": [],
    "scrolled": false
   },
   "outputs": [],
   "source": [
    "# Definition of modelling parameters\n",
    "# ----------------------------------\n",
    "Lx = 0.01  # length of the plate in the x direction\n",
    "Ly = 0.01  # height of the plate in the y direction\n",
    "nx = 251   # number of points in the x direction\n",
    "ny = 251   # number of points in the y direction\n",
    "dx = Lx / (nx - 1)  # grid spacing in the x direction\n",
    "dy = Ly / (ny - 1)  # grid spacing in the y direction\n",
    "alpha = 1e-4  # thermal diffusivity of the plate\n",
    "\n",
    "# Define the locations along a gridline.\n",
    "x = numpy.linspace(0.0, Lx, num=nx)\n",
    "y = numpy.linspace(0.0, Ly, num=ny)\n",
    "\n",
    "# Compute the initial temperature distribution.\n",
    "Tb = 100.0  # temperature at the left and bottom boundaries\n",
    "T0 = 20.0 * numpy.ones((ny, nx))\n",
    "T0[0, :] = Tb\n",
    "T0[:, 0] = Tb"
   ]
  },
  {
   "cell_type": "markdown",
   "metadata": {},
   "source": [
    "We don't want our solution blowing up, so let's find a time step with $\\frac{\\alpha \\Delta t}{\\Delta x^2} = \\frac{\\alpha \\Delta t}{\\Delta y^2} = \\frac{1}{4}$. "
   ]
  },
  {
   "cell_type": "code",
   "execution_count": 6,
   "metadata": {},
   "outputs": [],
   "source": [
    "# Set the time-step size based on CFL limit.\n",
    "sigma = 0.25\n",
    "dt = sigma * min(dx, dy)**2 / alpha  # time-step size\n",
    "nt = 500  # number of time steps to compute"
   ]
  },
  {
   "cell_type": "markdown",
   "metadata": {},
   "source": [
    "Let 's estimate the runtime of the `ftcs_vanilla` Python code by using the magic function `%%time`"
   ]
  },
  {
   "cell_type": "code",
   "execution_count": 7,
   "metadata": {},
   "outputs": [
    {
     "name": "stdout",
     "output_type": "stream",
     "text": [
      "Wall time: 45.2 s\n"
     ]
    }
   ],
   "source": [
    "%%time\n",
    "\n",
    "# Compute the temperature distribution on the CPU.\n",
    "T = ftcs_vanilla(T0, nt, dt, dx, dy, alpha)"
   ]
  },
  {
   "cell_type": "markdown",
   "metadata": {},
   "source": [
    "You should adapt the value of the timing measurement `t_vanilla_python` below  by the runtime value of your computer."
   ]
  },
  {
   "cell_type": "code",
   "execution_count": 8,
   "metadata": {},
   "outputs": [],
   "source": [
    "t_vanilla_python = 45.2"
   ]
  },
  {
   "cell_type": "markdown",
   "metadata": {},
   "source": [
    "## Just-In-Time (JIT) code compilation with Numba \n",
    "\n",
    "The poor performance of the vanilla Python code is due to the nested FOR loops to compute the 2nd spatial FD derivatives. We can optimize the performance using the `Numba ` library  for Python ([http://numba.pydata.org/](http://numba.pydata.org/)) which turns Python functions into C-style compiled functions using [LLVM](https://en.wikipedia.org/wiki/LLVM). A nice introduction to Numba was presented at the SciPy conference 2016 by Gil Forsyth & Lorena Barba in a workshop with the title \n",
    "\n",
    "**Numba: Tell those C++ bullies to get lost**"
   ]
  },
  {
   "cell_type": "code",
   "execution_count": 9,
   "metadata": {},
   "outputs": [
    {
     "data": {
      "image/jpeg": "[encoded data removed]",
      "text/html": [
       "\n",
       "        <iframe\n",
       "            width=\"400\"\n",
       "            height=\"300\"\n",
       "            src=\"https://www.youtube.com/embed/SzBi3xdEF2Y\"\n",
       "            frameborder=\"0\"\n",
       "            allowfullscreen\n",
       "        ></iframe>\n",
       "        "
      ],
      "text/plain": [
       "<IPython.lib.display.YouTubeVideo at 0x2e2b2daae80>"
      ]
     },
     "execution_count": 9,
     "metadata": {},
     "output_type": "execute_result"
    }
   ],
   "source": [
    "from IPython.display import YouTubeVideo\n",
    "YouTubeVideo('SzBi3xdEF2Y')"
   ]
  },
  {
   "cell_type": "markdown",
   "metadata": {},
   "source": [
    "The associated Jupyter notebooks can be cloned from [here](https://github.com/barbagroup/numba_tutorial_scipy2016).\n",
    "\n",
    "First, we have to install Numba, which is quite easy using Anaconda:\n",
    "\n",
    "`conda install numba` \n",
    "\n",
    "From the Numba library we import **jit**: "
   ]
  },
  {
   "cell_type": "code",
   "execution_count": 10,
   "metadata": {},
   "outputs": [],
   "source": [
    "# import JIT from Numba\n",
    "from numba import jit"
   ]
  },
  {
   "cell_type": "markdown",
   "metadata": {},
   "source": [
    "The only thing, we modify in our original Python code is to add the function decorator \n",
    "\n",
    "`@jit(nopython=True)`\n",
    "\n",
    "which tags the function `FD_2D_acoustic_JIT` to be compiled:"
   ]
  },
  {
   "cell_type": "code",
   "execution_count": 11,
   "metadata": {},
   "outputs": [],
   "source": [
    "# FTCS code to solve the 2D heat equation with JIT optimization\n",
    "# -------------------------------------------------------------\n",
    "@jit(nopython=True) # use Just-In-Time (JIT) Compilation for C-performance\n",
    "def ftcs_JIT(T0, nt, dt, dx, dy, alpha):\n",
    "    \"\"\"\n",
    "    Computes and returns the temperature distribution\n",
    "    after a given number of time steps.\n",
    "    Explicit integration using forward differencing\n",
    "    in time and central differencing in space, with\n",
    "    Neumann conditions (zero-gradient) on top and right\n",
    "    boundaries and Dirichlet conditions on bottom and\n",
    "    left boundaries.\n",
    "    \n",
    "    Parameters\n",
    "    ----------\n",
    "    T0 : numpy.ndarray\n",
    "        The initial temperature distribution as a 2D array of floats.\n",
    "    nt : integer\n",
    "        Maximum number of time steps to compute.\n",
    "    dt : float\n",
    "        Time-step size.\n",
    "    dx : float\n",
    "        Grid spacing in the x direction.\n",
    "    dy : float\n",
    "        Grid spacing in the y direction.\n",
    "    alpha : float\n",
    "        Thermal diffusivity.\n",
    "    \n",
    "    Returns\n",
    "    -------\n",
    "    T : numpy.ndarray\n",
    "        The temperature distribution as a 2D array of floats.\n",
    "    \"\"\"\n",
    "    # Define some constants.\n",
    "    sigma_x = alpha * dt / dx**2\n",
    "    sigma_y = alpha * dt / dy**2\n",
    "    \n",
    "    # Integrate in time.\n",
    "    T = T0.copy()\n",
    "    \n",
    "    # Estimate number of grid points in x- and y-direction\n",
    "    ny, nx = T.shape\n",
    "    \n",
    "    # Indices of the model center\n",
    "    I, J = int(nx / 2), int(ny / 2)  \n",
    "    \n",
    "    # Time loop\n",
    "    for n in range(nt):\n",
    "        \n",
    "        # store old temperature field\n",
    "        Tn = T.copy()\n",
    "        \n",
    "        # loop over spatial grid \n",
    "        for i in range(1,nx-1):\n",
    "            for j in range(1,ny-1):\n",
    "                \n",
    "                T[j, i] = (Tn[j, i] +\n",
    "                         sigma_x * (Tn[j, i+1] - 2.0 * Tn[j, i] + Tn[j, i-1]) +\n",
    "                         sigma_y * (Tn[j+1, i] - 2.0 * Tn[j, i] + Tn[j-1, i]))\n",
    "                \n",
    "        # Apply Neumann conditions (zero-gradient).\n",
    "        T[-1, :] = T[-2, :]\n",
    "        T[:, -1] = T[:, -2]\n",
    "        \n",
    "    return T"
   ]
  },
  {
   "cell_type": "markdown",
   "metadata": {},
   "source": [
    "Let's run the code `ftcs_JIT` "
   ]
  },
  {
   "cell_type": "code",
   "execution_count": 13,
   "metadata": {},
   "outputs": [
    {
     "name": "stdout",
     "output_type": "stream",
     "text": [
      "Wall time: 78.1 ms\n"
     ]
    }
   ],
   "source": [
    "%%time\n",
    "T_JIT = ftcs_JIT(T0, nt, dt, dx, dy, alpha)"
   ]
  },
  {
   "cell_type": "markdown",
   "metadata": {},
   "source": [
    "Wow, you don't have to wait 45 s, but only 626 ms. Run the cell above again ...\n",
    "\n",
    "... and you see that the runtime is suddenly further decreased to 78.1 ms. This performance improvement can be explained by the code compilation during the first run of the code. So by simply using the `@jit` function decorator we get a performance increase of **579x** compared to the non-optimized Python code - not too bad."
   ]
  },
  {
   "cell_type": "code",
   "execution_count": 14,
   "metadata": {},
   "outputs": [],
   "source": [
    "t_JIT_python = 0.0781  # runtime of JIT compiled Python code (s)"
   ]
  },
  {
   "cell_type": "markdown",
   "metadata": {},
   "source": [
    "Another approach to get rid of the nested FOR-loops is to use Numpy array operations:"
   ]
  },
  {
   "cell_type": "code",
   "execution_count": 15,
   "metadata": {},
   "outputs": [],
   "source": [
    "# FTCS code to solve the 2D heat equation with Numpy array operations\n",
    "# -------------------------------------------------------------------\n",
    "def ftcs_numpy(T0, nt, dt, dx, dy, alpha):\n",
    "    \"\"\"\n",
    "    Computes and returns the temperature distribution\n",
    "    after a given number of time steps.\n",
    "    Explicit integration using forward differencing\n",
    "    in time and central differencing in space, with\n",
    "    Neumann conditions (zero-gradient) on top and right\n",
    "    boundaries and Dirichlet conditions on bottom and\n",
    "    left boundaries.\n",
    "    \n",
    "    Parameters\n",
    "    ----------\n",
    "    T0 : numpy.ndarray\n",
    "        The initial temperature distribution as a 2D array of floats.\n",
    "    nt : integer\n",
    "        Maximum number of time steps to compute.\n",
    "    dt : float\n",
    "        Time-step size.\n",
    "    dx : float\n",
    "        Grid spacing in the x direction.\n",
    "    dy : float\n",
    "        Grid spacing in the y direction.\n",
    "    alpha : float\n",
    "        Thermal diffusivity.\n",
    "    \n",
    "    Returns\n",
    "    -------\n",
    "    T : numpy.ndarray\n",
    "        The temperature distribution as a 2D array of floats.\n",
    "    \"\"\"\n",
    "    # Define some constants.\n",
    "    sigma_x = alpha * dt / dx**2\n",
    "    sigma_y = alpha * dt / dy**2\n",
    "    \n",
    "    # Integrate in time.\n",
    "    T = T0.copy()\n",
    "    \n",
    "    # Estimate number of grid points in x- and y-direction\n",
    "    ny, nx = T.shape\n",
    "    \n",
    "    # Indices of the model center\n",
    "    I, J = int(nx / 2), int(ny / 2)  \n",
    "    \n",
    "    # Time loop\n",
    "    for n in range(nt):\n",
    "        \n",
    "        # Old FD approximation of spatial derivative by 3-point operator\n",
    "        # using nested FOR-loops is replaced by ...\n",
    "        \n",
    "        # store old temperature field\n",
    "        #Tn = T.copy()\n",
    "        \n",
    "        # loop over spatial grid \n",
    "        #for i in range(1,nx-1):\n",
    "        #    for j in range(1,ny-1):\n",
    "        #        \n",
    "        #       T[j, i] = (Tn[j, i] +\n",
    "        #                 sigma_x * (Tn[j, i+1] - 2.0 * Tn[j, i] + Tn[j, i-1]) +\n",
    "        #                 sigma_y * (Tn[j+1, i] - 2.0 * Tn[j, i] + Tn[j-1, i]))\n",
    "        \n",
    "        # ... Numpy array operations:\n",
    "        T[1:-1, 1:-1] = (T[1:-1, 1:-1] +\n",
    "                         sigma_x * (T[1:-1, 2:] - 2.0 * T[1:-1, 1:-1] + T[1:-1, :-2]) +\n",
    "                         sigma_y * (T[2:, 1:-1] - 2.0 * T[1:-1, 1:-1] + T[:-2, 1:-1]))\n",
    "        \n",
    "            \n",
    "        # Apply Neumann conditions (zero-gradient).\n",
    "        T[-1, :] = T[-2, :]\n",
    "        T[:, -1] = T[:, -2]\n",
    "        \n",
    "    return T"
   ]
  },
  {
   "cell_type": "code",
   "execution_count": 16,
   "metadata": {
    "scrolled": true
   },
   "outputs": [
    {
     "name": "stdout",
     "output_type": "stream",
     "text": [
      "Wall time: 469 ms\n"
     ]
    }
   ],
   "source": [
    "%%time\n",
    "T_numpy = ftcs_numpy(T0, nt, dt, dx, dy, alpha)"
   ]
  },
  {
   "cell_type": "code",
   "execution_count": 17,
   "metadata": {},
   "outputs": [],
   "source": [
    "t_numpy_python = 0.469  # runtime of JIT compiled Python code (s)"
   ]
  },
  {
   "cell_type": "markdown",
   "metadata": {},
   "source": [
    "The runtime 469 ms of the `NumPy` version is not as fast as the 78 ms of the JIT version, but a **96x** improvement is still better than the non-optimized version. Can JIT also improve the performance of `ftcs_numpy`?"
   ]
  },
  {
   "cell_type": "code",
   "execution_count": 18,
   "metadata": {},
   "outputs": [],
   "source": [
    "# FTCS code to solve the 2D heat equation with Numpy array operations + JIT optimization\n",
    "# --------------------------------------------------------------------------------------\n",
    "@jit(nopython=True) # use Just-In-Time (JIT) Compilation for C-performance\n",
    "def ftcs_numpy_jit(T0, nt, dt, dx, dy, alpha):\n",
    "    \"\"\"\n",
    "    Computes and returns the temperature distribution\n",
    "    after a given number of time steps.\n",
    "    Explicit integration using forward differencing\n",
    "    in time and central differencing in space, with\n",
    "    Neumann conditions (zero-gradient) on top and right\n",
    "    boundaries and Dirichlet conditions on bottom and\n",
    "    left boundaries.\n",
    "    \n",
    "    Parameters\n",
    "    ----------\n",
    "    T0 : numpy.ndarray\n",
    "        The initial temperature distribution as a 2D array of floats.\n",
    "    nt : integer\n",
    "        Maximum number of time steps to compute.\n",
    "    dt : float\n",
    "        Time-step size.\n",
    "    dx : float\n",
    "        Grid spacing in the x direction.\n",
    "    dy : float\n",
    "        Grid spacing in the y direction.\n",
    "    alpha : float\n",
    "        Thermal diffusivity.\n",
    "    \n",
    "    Returns\n",
    "    -------\n",
    "    T : numpy.ndarray\n",
    "        The temperature distribution as a 2D array of floats.\n",
    "    \"\"\"\n",
    "    # Define some constants.\n",
    "    sigma_x = alpha * dt / dx**2\n",
    "    sigma_y = alpha * dt / dy**2\n",
    "    \n",
    "    # Integrate in time.\n",
    "    T = T0.copy()\n",
    "    \n",
    "    # Estimate number of grid points in x- and y-direction\n",
    "    ny, nx = T.shape\n",
    "    \n",
    "    # Indices of the model center\n",
    "    I, J = int(nx / 2), int(ny / 2)  \n",
    "    \n",
    "    # Time loop\n",
    "    for n in range(nt):\n",
    "        \n",
    "        # Old FD approximation of spatial derivative by 3-point operator\n",
    "        # using nested FOR-loops is replaced by ...\n",
    "        \n",
    "        # store old temperature field\n",
    "        #Tn = T.copy()\n",
    "        \n",
    "        # loop over spatial grid \n",
    "        #for i in range(1,nx-1):\n",
    "        #    for j in range(1,ny-1):\n",
    "        #        \n",
    "        #       T[j, i] = (Tn[j, i] +\n",
    "        #                 sigma_x * (Tn[j, i+1] - 2.0 * Tn[j, i] + Tn[j, i-1]) +\n",
    "        #                 sigma_y * (Tn[j+1, i] - 2.0 * Tn[j, i] + Tn[j-1, i]))\n",
    "        \n",
    "        # ... Numpy array operations:\n",
    "        T[1:-1, 1:-1] = (T[1:-1, 1:-1] +\n",
    "                         sigma_x * (T[1:-1, 2:] - 2.0 * T[1:-1, 1:-1] + T[1:-1, :-2]) +\n",
    "                         sigma_y * (T[2:, 1:-1] - 2.0 * T[1:-1, 1:-1] + T[:-2, 1:-1]))\n",
    "        \n",
    "            \n",
    "        # Apply Neumann conditions (zero-gradient).\n",
    "        T[-1, :] = T[-2, :]\n",
    "        T[:, -1] = T[:, -2]\n",
    "        \n",
    "    return T"
   ]
  },
  {
   "cell_type": "code",
   "execution_count": 20,
   "metadata": {
    "scrolled": true
   },
   "outputs": [
    {
     "name": "stdout",
     "output_type": "stream",
     "text": [
      "Wall time: 125 ms\n"
     ]
    }
   ],
   "source": [
    "%%time\n",
    "T_numpy_JIT = ftcs_numpy_jit(T0, nt, dt, dx, dy, alpha)"
   ]
  },
  {
   "cell_type": "code",
   "execution_count": 21,
   "metadata": {},
   "outputs": [],
   "source": [
    "t_numpy_python_JIT = 0.125  # runtime of JIT compiled Python code (s)"
   ]
  },
  {
   "cell_type": "markdown",
   "metadata": {},
   "source": [
    "So JIT could also improve the performance of the code using `NumPy` array operations, but the performance of the compiled code with the nested FOR loops still shows a slight edge in terms of runtime. To check if the optimized codes are not only fast but still produce reasonable modelling results, it is a good idea to check if the temperature profiles computed with the optimized codes coincide. "
   ]
  },
  {
   "cell_type": "code",
   "execution_count": 23,
   "metadata": {},
   "outputs": [
    {
     "data": {
      "image/png": "[encoded data removed]",
      "text/plain": [
       "<Figure size 864x360 with 1 Axes>"
      ]
     },
     "metadata": {
      "needs_background": "light"
     },
     "output_type": "display_data"
    }
   ],
   "source": [
    "# Compare temperature profiles \n",
    "# ----------------------------------------------\n",
    "# Define figure size\n",
    "pyplot.rcParams['figure.figsize'] = 12, 5\n",
    "pyplot.plot(x*100, T[(int)(ny/2),:], 'r-',lw=3,label=\"FD solution (vanilla Python)\")\n",
    "pyplot.plot(x*100, T_JIT[(int)(ny/2),:], 'b--',lw=3,label=\"FD solution (JIT)\")\n",
    "pyplot.plot(x*100, T_numpy[(int)(ny/2),:], 'g:',lw=3,label=\"FD solution (NumPy)\")\n",
    "pyplot.plot(x*100, T_numpy_JIT[(int)(ny/2),:], 'k:',lw=3,label=\"FD solution (NumPy + JIT)\")\n",
    "pyplot.xlim(x[0]*100, x[-1]*100)\n",
    "pyplot.title('Temperature Profile')\n",
    "pyplot.xlabel('x [cm]')\n",
    "pyplot.ylabel('T [°C]')\n",
    "pyplot.legend()\n",
    "pyplot.grid()\n",
    "pyplot.show() "
   ]
  },
  {
   "cell_type": "markdown",
   "metadata": {},
   "source": [
    "Finally, we produce some nice bar charts to compare the performance of the different codes developed in this `Jupyter` notebook:"
   ]
  },
  {
   "cell_type": "code",
   "execution_count": 24,
   "metadata": {
    "scrolled": false
   },
   "outputs": [
    {
     "data": {
      "image/png": "[encoded data removed]",
      "text/plain": [
       "<Figure size 864x576 with 2 Axes>"
      ]
     },
     "metadata": {
      "needs_background": "light"
     },
     "output_type": "display_data"
    }
   ],
   "source": [
    "# define codes\n",
    "codes = ('Python', 'Python + JIT', 'Python + NumPy', 'Python + NumPy + JIT')\n",
    "y_pos = numpy.arange(len(codes))\n",
    "\n",
    "# runtime\n",
    "performance = [t_vanilla_python,t_JIT_python,t_numpy_python,t_numpy_python_JIT]\n",
    "\n",
    "# speed-up with respect to the non-optimized code\n",
    "speedup = [t_vanilla_python/t_vanilla_python,\n",
    "           t_vanilla_python/t_JIT_python,\n",
    "           t_vanilla_python/t_numpy_python,\n",
    "           t_vanilla_python/t_numpy_python_JIT]\n",
    "\n",
    "# Define figure size\n",
    "pyplot.rcParams['figure.figsize'] = 12, 8\n",
    "\n",
    "# Plot runtimes of 2D heat equation FD codes\n",
    "ax1 = pyplot.subplot(211)\n",
    "\n",
    "pyplot.bar(y_pos, performance, align='center', alpha=0.5)\n",
    "pyplot.xticks(y_pos, codes)\n",
    "pyplot.ylabel('Runtime (s)')\n",
    "pyplot.title('Performance comparison of 2D heat equation FD modelling codes')\n",
    " \n",
    "# make tick labels invisible\n",
    "pyplot.setp(ax1.get_xticklabels(), visible=False)   \n",
    "\n",
    "# Plot speedup of 2D heat equation FD codes\n",
    "ax2 = pyplot.subplot(212, sharex=ax1)    \n",
    "\n",
    "pyplot.bar(y_pos, speedup, align='center', alpha=0.5,color='r')\n",
    "pyplot.xticks(y_pos, codes)\n",
    "pyplot.ylabel('Speedup ()')\n",
    "pyplot.tight_layout() \n",
    "pyplot.show()"
   ]
  },
  {
   "cell_type": "markdown",
   "metadata": {},
   "source": [
    "Is this the best result we can achieve or are further code improvements possible? \n",
    "\n",
    "Using domain decomposition with the **Message-Passing Interface MPI** to distribute the workload over multiple CPU cores, combined with a partioning of the tasks in each domain using **Multithreading** can significantly improve the code performance. One key is the manual optimization of CPU and GPU kernels, especially regarding memory access times or communication between MPI processes.\n",
    "\n",
    "More details about MPI and Multithreading optimizations are beyond the scope of this course, but will be the topic of a future HPC lecture ...\n",
    "\n",
    "To get an idea about the difference between JIT optimized Python codes and manually optimized codes, I recommend a SciPy 2016 talk by Andreas Klöckner:\n",
    "\n",
    "**High Performance with Python: Architectures, Approaches & Applications**"
   ]
  },
  {
   "cell_type": "code",
   "execution_count": 25,
   "metadata": {},
   "outputs": [
    {
     "data": {
      "image/jpeg": "[encoded data removed]",
      "text/html": [
       "\n",
       "        <iframe\n",
       "            width=\"400\"\n",
       "            height=\"300\"\n",
       "            src=\"https://www.youtube.com/embed/Zz_6P5qAJck\"\n",
       "            frameborder=\"0\"\n",
       "            allowfullscreen\n",
       "        ></iframe>\n",
       "        "
      ],
      "text/plain": [
       "<IPython.lib.display.YouTubeVideo at 0x26716c2b518>"
      ]
     },
     "execution_count": 25,
     "metadata": {},
     "output_type": "execute_result"
    }
   ],
   "source": [
    "from IPython.display import YouTubeVideo\n",
    "YouTubeVideo('Zz_6P5qAJck')"
   ]
  },
  {
   "cell_type": "markdown",
   "metadata": {},
   "source": [
    "## What we learned:\n",
    "\n",
    "* The performance of our 2D heat equation modelling code, developed in the previous class, suffered from the nested FOR loops over the spatial finite difference grid\n",
    "* Using JIT compilation of the Python code using `Numba`, the performance could be significantly improved by a factor 579x\n",
    "* Alternatively, we can replace the nested FOR loops by `NumPy` array operations and combine with JIT optimization to improve the runtime performance\n",
    "* When optimizing the performance of a code, always check if the modelling results of your optimized Python codes are still correct"
   ]
  }
 ],
 "metadata": {
  "anaconda-cloud": {},
  "kernelspec": {
   "display_name": "Python 3",
   "language": "python",
   "name": "python3"
  },
  "language_info": {
   "codemirror_mode": {
    "name": "ipython",
    "version": 3
   },
   "file_extension": ".py",
   "mimetype": "text/x-python",
   "name": "python",
   "nbconvert_exporter": "python",
   "pygments_lexer": "ipython3",
   "version": "3.6.8"
  }
 },
 "nbformat": 4,
 "nbformat_minor": 1
}
